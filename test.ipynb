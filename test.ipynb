{
 "cells": [
  {
   "cell_type": "code",
   "execution_count": 1,
   "metadata": {},
   "outputs": [],
   "source": [
    "# Import các thư viện Python cần thiết\n",
    "import time\n",
    "import re\n",
    "import openpyxl\n",
    "import os\n",
    "from selenium import webdriver\n",
    "from selenium.webdriver.common.by import By\n",
    "from selenium.webdriver.common.keys import Keys\n",
    "from selenium.webdriver.edge.options import Options\n",
    "from datetime import date\n",
    "from selenium.webdriver.edge.service import Service\n",
    "from selenium.webdriver.support import expected_conditions as EC\n",
    "from selenium.webdriver.support.wait import WebDriverWait\n",
    "from selenium.common.exceptions import NoSuchElementException"
   ]
  },
  {
   "cell_type": "code",
   "execution_count": 2,
   "metadata": {},
   "outputs": [],
   "source": [
    "#webdriver path\n",
    "path = \"G:\\Learning\\Code\\Webdriver\\msedgedriver.exe\""
   ]
  },
  {
   "cell_type": "code",
   "execution_count": 3,
   "metadata": {},
   "outputs": [],
   "source": [
    "# Open ref.xlxs (contains district)\n",
    "ref = openpyxl.load_workbook('ref.xlsx')\n",
    "disLis = ref.worksheets[0]\n",
    "row_count = disLis.max_row\n",
    "\n",
    "keyword_wb = openpyxl.load_workbook('keywords.xlsx')\n",
    "keyword_list = keyword_wb.worksheets[0]\n",
    "keyword_row = keyword_list.max_row\n",
    "\n",
    "# Open Results.xlsx to save the results\n",
    "workBook = openpyxl.load_workbook('Results.xlsx')\n",
    "workBook = openpyxl.Workbook()\n",
    "workSheet = workBook.worksheets[0]\n",
    "workSheet.append(['District', 'Name', 'Longitude', 'Latitude', 'Type', 'Rating', 'Comments'])\n",
    "workBook.save(filename = 'Results.xlsx')"
   ]
  },
  {
   "cell_type": "code",
   "execution_count": 5,
   "metadata": {},
   "outputs": [],
   "source": [
    "# Setup Edge Driver configuration\n",
    "service = Service(executable_path=path)\n",
    "edge_options = webdriver.EdgeOptions()\n",
    "edge_options.add_argument('--headless')\n",
    "edge_options.add_argument('--no-sandbox')\n",
    "edge_options.add_argument('--disable-dev-shm-usage')\n",
    "\n",
    "driver = webdriver.Edge(service=service, options=edge_options)\n",
    "\n",
    "driver.get('https://www.google.com/maps/@9.779349,105.6189045,11z?hl=vi-VN')\n",
    "\n",
    "\n",
    "# Off Google Consent Form\n",
    "try:\n",
    "    driver.find_element(By.XPATH, '/html/body/div[3]/div[9]/div[3]/div[1]/div[1]/div[1]/div[2]/form/div[2]/div[3]/div/input[1]').click()\n",
    "except:\n",
    "    pass\n",
    "\n",
    "# Search and save the result\n",
    "searchBox = driver.find_element(By.ID, 'searchboxinput')"
   ]
  },
  {
   "cell_type": "code",
   "execution_count": 6,
   "metadata": {},
   "outputs": [
    {
     "name": "stdout",
     "output_type": "stream",
     "text": [
      "1/1\n",
      "cà phê tại Linh Đàm\n"
     ]
    }
   ],
   "source": [
    "for k in range(1, keyword_row + 1):\n",
    "    search_key = keyword_list['A' + str(k)].value\n",
    "\n",
    "    for i in range(1, row_count + 1):\n",
    "        print(str(i) + '/' + str(row_count))\n",
    "        print(search_key+ ' tại ' + disLis['A' + str(i)].value)\n",
    "\n",
    "        # Từ khóa tìm kiếm = {quận/huyện, tỉnh} + {đối tượng tìm kiếm}\n",
    "        searchBox.send_keys(search_key+ ' tại ' + disLis['A' + str(i)].value)\n",
    "        searchBox.send_keys(Keys.ENTER)\n",
    "        time.sleep(3)"
   ]
  },
  {
   "cell_type": "code",
   "execution_count": 29,
   "metadata": {},
   "outputs": [
    {
     "ename": "JavascriptException",
     "evalue": "Message: javascript error: this._.apply is not a function\n  (Session info: MicrosoftEdge=130.0.2849.46)\nStacktrace:\n\tGetHandleVerifier [0x00007FF68367D095+12933]\n\tMicrosoft::Applications::Events::EventProperty::empty [0x00007FF68393FE14+2285364]\n\tMicrosoft::Applications::Events::EventProperty::empty [0x00007FF68387D7D6+1489142]\n\t(No symbol) [0x00007FF68342B005]\n\t(No symbol) [0x00007FF68342CF6E]\n\t(No symbol) [0x00007FF6834A1D74]\n\t(No symbol) [0x00007FF68348847A]\n\t(No symbol) [0x00007FF6834605A7]\n\t(No symbol) [0x00007FF6834A13B1]\n\t(No symbol) [0x00007FF6834880E3]\n\t(No symbol) [0x00007FF68345FAE4]\n\t(No symbol) [0x00007FF68345EF90]\n\t(No symbol) [0x00007FF68345F6D1]\n\tMicrosoft::Applications::Events::EventProperty::empty [0x00007FF683814764+1058948]\n\tMicrosoft::Applications::Events::EventProperty::~EventProperty [0x00007FF6835866B4+56500]\n\tMicrosoft::Applications::Events::EventProperty::empty [0x00007FF683813763+1054851]\n\tMicrosoft::Applications::Events::EventProperty::empty [0x00007FF6838133C9+1053929]\n\tMicrosoft::Applications::Events::ILogConfiguration::operator* [0x00007FF6836139E1+428481]\n\tMicrosoft::Applications::Events::ILogConfiguration::operator* [0x00007FF68360FC94+412788]\n\tMicrosoft::Applications::Events::ILogConfiguration::operator* [0x00007FF68360FDD9+413113]\n\tMicrosoft::Applications::Events::ILogConfiguration::operator* [0x00007FF683605A06+371174]\n\tBaseThreadInitThunk [0x00007FFC5783257D+29]\n\tRtlUserThreadStart [0x00007FFC59B4AF08+40]\n",
     "output_type": "error",
     "traceback": [
      "\u001b[1;31m---------------------------------------------------------------------------\u001b[0m",
      "\u001b[1;31mJavascriptException\u001b[0m                       Traceback (most recent call last)",
      "Cell \u001b[1;32mIn[29], line 6\u001b[0m\n\u001b[0;32m      4\u001b[0m test \u001b[38;5;241m=\u001b[39m [item\u001b[38;5;241m.\u001b[39mtext \u001b[38;5;28;01mfor\u001b[39;00m item \u001b[38;5;129;01min\u001b[39;00m searchResults]\n\u001b[0;32m      5\u001b[0m test1 \u001b[38;5;241m=\u001b[39m searchResults[\u001b[38;5;241m0\u001b[39m]\n\u001b[1;32m----> 6\u001b[0m test2 \u001b[38;5;241m=\u001b[39m \u001b[43mtest1\u001b[49m\u001b[38;5;241;43m.\u001b[39;49m\u001b[43mget_attribute\u001b[49m\u001b[43m(\u001b[49m\u001b[38;5;124;43m'\u001b[39;49m\u001b[38;5;124;43ma\u001b[39;49m\u001b[38;5;124;43m'\u001b[39;49m\u001b[43m)\u001b[49m\n\u001b[0;32m      7\u001b[0m test3 \u001b[38;5;241m=\u001b[39m test1\u001b[38;5;241m.\u001b[39mget_attribute(\u001b[38;5;124m'\u001b[39m\u001b[38;5;124mouterHTML\u001b[39m\u001b[38;5;124m'\u001b[39m)\n\u001b[0;32m      8\u001b[0m \u001b[38;5;28;01mif\u001b[39;00m searchResults:\n",
      "File \u001b[1;32m~\\AppData\\Local\\Packages\\PythonSoftwareFoundation.Python.3.11_qbz5n2kfra8p0\\LocalCache\\local-packages\\Python311\\site-packages\\selenium\\webdriver\\remote\\webelement.py:177\u001b[0m, in \u001b[0;36mWebElement.get_attribute\u001b[1;34m(self, name)\u001b[0m\n\u001b[0;32m    175\u001b[0m \u001b[38;5;28;01mif\u001b[39;00m getAttribute_js \u001b[38;5;129;01mis\u001b[39;00m \u001b[38;5;28;01mNone\u001b[39;00m:\n\u001b[0;32m    176\u001b[0m     _load_js()\n\u001b[1;32m--> 177\u001b[0m attribute_value \u001b[38;5;241m=\u001b[39m \u001b[38;5;28;43mself\u001b[39;49m\u001b[38;5;241;43m.\u001b[39;49m\u001b[43mparent\u001b[49m\u001b[38;5;241;43m.\u001b[39;49m\u001b[43mexecute_script\u001b[49m\u001b[43m(\u001b[49m\n\u001b[0;32m    178\u001b[0m \u001b[43m    \u001b[49m\u001b[38;5;124;43mf\u001b[39;49m\u001b[38;5;124;43m\"\u001b[39;49m\u001b[38;5;124;43m/* getAttribute */return (\u001b[39;49m\u001b[38;5;132;43;01m{\u001b[39;49;00m\u001b[43mgetAttribute_js\u001b[49m\u001b[38;5;132;43;01m}\u001b[39;49;00m\u001b[38;5;124;43m).apply(null, arguments);\u001b[39;49m\u001b[38;5;124;43m\"\u001b[39;49m\u001b[43m,\u001b[49m\u001b[43m \u001b[49m\u001b[38;5;28;43mself\u001b[39;49m\u001b[43m,\u001b[49m\u001b[43m \u001b[49m\u001b[43mname\u001b[49m\n\u001b[0;32m    179\u001b[0m \u001b[43m\u001b[49m\u001b[43m)\u001b[49m\n\u001b[0;32m    180\u001b[0m \u001b[38;5;28;01mreturn\u001b[39;00m attribute_value\n",
      "File \u001b[1;32m~\\AppData\\Local\\Packages\\PythonSoftwareFoundation.Python.3.11_qbz5n2kfra8p0\\LocalCache\\local-packages\\Python311\\site-packages\\selenium\\webdriver\\remote\\webdriver.py:404\u001b[0m, in \u001b[0;36mWebDriver.execute_script\u001b[1;34m(self, script, *args)\u001b[0m\n\u001b[0;32m    401\u001b[0m converted_args \u001b[38;5;241m=\u001b[39m \u001b[38;5;28mlist\u001b[39m(args)\n\u001b[0;32m    402\u001b[0m command \u001b[38;5;241m=\u001b[39m Command\u001b[38;5;241m.\u001b[39mW3C_EXECUTE_SCRIPT\n\u001b[1;32m--> 404\u001b[0m \u001b[38;5;28;01mreturn\u001b[39;00m \u001b[38;5;28;43mself\u001b[39;49m\u001b[38;5;241;43m.\u001b[39;49m\u001b[43mexecute\u001b[49m\u001b[43m(\u001b[49m\u001b[43mcommand\u001b[49m\u001b[43m,\u001b[49m\u001b[43m \u001b[49m\u001b[43m{\u001b[49m\u001b[38;5;124;43m\"\u001b[39;49m\u001b[38;5;124;43mscript\u001b[39;49m\u001b[38;5;124;43m\"\u001b[39;49m\u001b[43m:\u001b[49m\u001b[43m \u001b[49m\u001b[43mscript\u001b[49m\u001b[43m,\u001b[49m\u001b[43m \u001b[49m\u001b[38;5;124;43m\"\u001b[39;49m\u001b[38;5;124;43margs\u001b[39;49m\u001b[38;5;124;43m\"\u001b[39;49m\u001b[43m:\u001b[49m\u001b[43m \u001b[49m\u001b[43mconverted_args\u001b[49m\u001b[43m}\u001b[49m\u001b[43m)\u001b[49m[\u001b[38;5;124m\"\u001b[39m\u001b[38;5;124mvalue\u001b[39m\u001b[38;5;124m\"\u001b[39m]\n",
      "File \u001b[1;32m~\\AppData\\Local\\Packages\\PythonSoftwareFoundation.Python.3.11_qbz5n2kfra8p0\\LocalCache\\local-packages\\Python311\\site-packages\\selenium\\webdriver\\remote\\webdriver.py:344\u001b[0m, in \u001b[0;36mWebDriver.execute\u001b[1;34m(self, driver_command, params)\u001b[0m\n\u001b[0;32m    342\u001b[0m response \u001b[38;5;241m=\u001b[39m \u001b[38;5;28mself\u001b[39m\u001b[38;5;241m.\u001b[39mcommand_executor\u001b[38;5;241m.\u001b[39mexecute(driver_command, params)\n\u001b[0;32m    343\u001b[0m \u001b[38;5;28;01mif\u001b[39;00m response:\n\u001b[1;32m--> 344\u001b[0m     \u001b[38;5;28;43mself\u001b[39;49m\u001b[38;5;241;43m.\u001b[39;49m\u001b[43merror_handler\u001b[49m\u001b[38;5;241;43m.\u001b[39;49m\u001b[43mcheck_response\u001b[49m\u001b[43m(\u001b[49m\u001b[43mresponse\u001b[49m\u001b[43m)\u001b[49m\n\u001b[0;32m    345\u001b[0m     response[\u001b[38;5;124m\"\u001b[39m\u001b[38;5;124mvalue\u001b[39m\u001b[38;5;124m\"\u001b[39m] \u001b[38;5;241m=\u001b[39m \u001b[38;5;28mself\u001b[39m\u001b[38;5;241m.\u001b[39m_unwrap_value(response\u001b[38;5;241m.\u001b[39mget(\u001b[38;5;124m\"\u001b[39m\u001b[38;5;124mvalue\u001b[39m\u001b[38;5;124m\"\u001b[39m, \u001b[38;5;28;01mNone\u001b[39;00m))\n\u001b[0;32m    346\u001b[0m     \u001b[38;5;28;01mreturn\u001b[39;00m response\n",
      "File \u001b[1;32m~\\AppData\\Local\\Packages\\PythonSoftwareFoundation.Python.3.11_qbz5n2kfra8p0\\LocalCache\\local-packages\\Python311\\site-packages\\selenium\\webdriver\\remote\\errorhandler.py:229\u001b[0m, in \u001b[0;36mErrorHandler.check_response\u001b[1;34m(self, response)\u001b[0m\n\u001b[0;32m    227\u001b[0m         alert_text \u001b[38;5;241m=\u001b[39m value[\u001b[38;5;124m\"\u001b[39m\u001b[38;5;124malert\u001b[39m\u001b[38;5;124m\"\u001b[39m]\u001b[38;5;241m.\u001b[39mget(\u001b[38;5;124m\"\u001b[39m\u001b[38;5;124mtext\u001b[39m\u001b[38;5;124m\"\u001b[39m)\n\u001b[0;32m    228\u001b[0m     \u001b[38;5;28;01mraise\u001b[39;00m exception_class(message, screen, stacktrace, alert_text)  \u001b[38;5;66;03m# type: ignore[call-arg]  # mypy is not smart enough here\u001b[39;00m\n\u001b[1;32m--> 229\u001b[0m \u001b[38;5;28;01mraise\u001b[39;00m exception_class(message, screen, stacktrace)\n",
      "\u001b[1;31mJavascriptException\u001b[0m: Message: javascript error: this._.apply is not a function\n  (Session info: MicrosoftEdge=130.0.2849.46)\nStacktrace:\n\tGetHandleVerifier [0x00007FF68367D095+12933]\n\tMicrosoft::Applications::Events::EventProperty::empty [0x00007FF68393FE14+2285364]\n\tMicrosoft::Applications::Events::EventProperty::empty [0x00007FF68387D7D6+1489142]\n\t(No symbol) [0x00007FF68342B005]\n\t(No symbol) [0x00007FF68342CF6E]\n\t(No symbol) [0x00007FF6834A1D74]\n\t(No symbol) [0x00007FF68348847A]\n\t(No symbol) [0x00007FF6834605A7]\n\t(No symbol) [0x00007FF6834A13B1]\n\t(No symbol) [0x00007FF6834880E3]\n\t(No symbol) [0x00007FF68345FAE4]\n\t(No symbol) [0x00007FF68345EF90]\n\t(No symbol) [0x00007FF68345F6D1]\n\tMicrosoft::Applications::Events::EventProperty::empty [0x00007FF683814764+1058948]\n\tMicrosoft::Applications::Events::EventProperty::~EventProperty [0x00007FF6835866B4+56500]\n\tMicrosoft::Applications::Events::EventProperty::empty [0x00007FF683813763+1054851]\n\tMicrosoft::Applications::Events::EventProperty::empty [0x00007FF6838133C9+1053929]\n\tMicrosoft::Applications::Events::ILogConfiguration::operator* [0x00007FF6836139E1+428481]\n\tMicrosoft::Applications::Events::ILogConfiguration::operator* [0x00007FF68360FC94+412788]\n\tMicrosoft::Applications::Events::ILogConfiguration::operator* [0x00007FF68360FDD9+413113]\n\tMicrosoft::Applications::Events::ILogConfiguration::operator* [0x00007FF683605A06+371174]\n\tBaseThreadInitThunk [0x00007FFC5783257D+29]\n\tRtlUserThreadStart [0x00007FFC59B4AF08+40]\n"
     ]
    }
   ],
   "source": [
    "for j in range(0, 1):\n",
    "    #searchResults = driver.find_elements(By.XPATH, '//*[@id=\"QA0Szd\"]//a')\n",
    "    searchResults = driver.find_elements(By.CSS_SELECTOR, \"div[class^='Nv2PK']\")\n",
    "    test = [item.text for item in searchResults]\n",
    "    test1 = searchResults[0]\n",
    "    test2 = test1.get_attribute('a')\n",
    "    test3 = test1.get_attribute('outerHTML')\n",
    "    if searchResults:\n",
    "        driver.execute_script(\"arguments[0].scrollIntoView();\", searchResults[-1])\n",
    "        time.sleep(1)\n",
    "    else:\n",
    "        break\n",
    "\n",
    "    for result in searchResults:                    \n",
    "        childInfo = result.find_elements(By.TAG_NAME, \"a\")\n",
    "        # test1 = childInfo.text\n",
    "        test2 = [item.text for item in childInfo]   "
   ]
  }
 ],
 "metadata": {
  "kernelspec": {
   "display_name": "Python 3",
   "language": "python",
   "name": "python3"
  },
  "language_info": {
   "codemirror_mode": {
    "name": "ipython",
    "version": 3
   },
   "file_extension": ".py",
   "mimetype": "text/x-python",
   "name": "python",
   "nbconvert_exporter": "python",
   "pygments_lexer": "ipython3",
   "version": "3.11.9"
  }
 },
 "nbformat": 4,
 "nbformat_minor": 2
}
